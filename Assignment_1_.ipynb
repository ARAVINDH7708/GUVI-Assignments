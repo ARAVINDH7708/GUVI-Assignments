{
  "cells": [
    {
      "cell_type": "markdown",
      "metadata": {
        "id": "l0ZzOlyxB-kf"
      },
      "source": [
        "<h1>Python: without numpy or sklearn </h1>"
      ]
    },
    {
      "cell_type": "markdown",
      "metadata": {
        "id": "C0xO8JV9B-ki"
      },
      "source": [
        "<h3> Q1: Given two matrices please print the product of those two matrices </h3>\n",
        "<pre>\n",
        "\n",
        "Ex 1: A   = [[1 3 4]\n",
        "             [2 5 7]\n",
        "             [5 9 6]]\n",
        "      B   = [[1 0 0]\n",
        "             [0 1 0]\n",
        "             [0 0 1]]\n",
        "      A*B = [[1 3 4]\n",
        "             [2 5 7]\n",
        "             [5 9 6]]\n",
        "\n",
        "     \n",
        "Ex 2: A   = [[1 2]\n",
        "             [3 4]]\n",
        "      B   = [[1 2 3 4 5]\n",
        "             [5 6 7 8 9]]\n",
        "      A*B = [[11 14 17 20 23]\n",
        "             [23 30 37 44 51]]\n",
        "             \n",
        "Ex 3: A   = [[1 2]\n",
        "             [3 4]]\n",
        "      B   = [[1 4]\n",
        "             [5 6]\n",
        "             [7 8]\n",
        "             [9 6]]\n",
        "      A*B =Not possible\n",
        "</pre>"
      ]
    },
    {
      "cell_type": "code",
      "execution_count": null,
      "metadata": {
        "id": "rnssAfpgB-kj",
        "outputId": "ba33c86b-f0c3-4503-813d-2466259224fc",
        "colab": {
          "base_uri": "https://localhost:8080/"
        }
      },
      "outputs": [
        {
          "output_type": "stream",
          "name": "stdout",
          "text": [
            "Enter number of rows of matrix A: 2\n",
            "Enter number of columns of matrix A: 2\n",
            "Enter number of rows of matrix B: 2\n",
            "Enter number of columns of matrix B: 2\n",
            "\n",
            "Matrix A\n",
            "1\n",
            "2\n",
            "3\n",
            "4\n",
            "  1   2 \n",
            "\n",
            "  3   4 \n",
            "\n",
            "Matrix B\n",
            "5\n",
            "6\n",
            "7\n",
            "8\n",
            "  5   6 \n",
            "\n",
            "  7   8 \n",
            "\n"
          ]
        }
      ],
      "source": [
        "# write your python code here\n",
        "# you can take the above example as sample input for your program to test\n",
        "# it should work for any general input try not to hard code for only given input examples\n",
        "# you can take matrix input from user or you can directly define the matrix and give input to the function\n",
        "# reference for creating input - https://stackoverflow.com/questions/12293208/how-to-create-a-list-of-lists\n",
        "\n",
        "# you can free to change all these codes/structure\n",
        "# here A and B are list of lists\n",
        "def print_matrix(matrix):\n",
        "    for i in range(len(matrix)):\n",
        "        for j in range(len(matrix[0])):\n",
        "            print(\" \", matrix[i][j], end = \" \")\n",
        "        print(\"\\n\")\n",
        "        \n",
        "m = int(input(\"Enter number of rows of matrix A: \"))\n",
        "n = int(input(\"Enter number of columns of matrix A: \"))\n",
        "p = int(input(\"Enter number of rows of matrix B: \"))\n",
        "q = int(input(\"Enter number of columns of matrix B: \"))\n",
        "\n",
        "if n != p:\n",
        "    print(\"Matrix multiplication is not possible\")\n",
        "\n",
        "A = [[0 for j in range(0, n)] for i in range(0, m)]\n",
        "B = [[0 for j in range(0, q)] for i in range(0, p)]\n",
        "C = [[0 for j in range(0, q)] for i in range(0, m)]\n",
        "\n",
        "print(\"\\nMatrix A\")\n",
        "for i in range(m):\n",
        "    for j in range(n):\n",
        "        A[i][j] = int(input())\n",
        "        \n",
        "print_matrix(A)\n",
        "\n",
        "print(\"Matrix B\")\n",
        "for i in range(0, p):\n",
        "    for j in range(0, q):\n",
        "        B[i][j] = int(input())\n",
        "\n",
        "print_matrix(B)"
      ]
    },
    {
      "cell_type": "code",
      "source": [
        "def matrix_mul(A, B):    \n",
        "    for i in range(len(A)): \n",
        "        for j in range(len(B[0])): \n",
        "             for k in range(len(B)): \n",
        "               C[i][j] += A[i][k] * B[k][j]      \n",
        "    return C    \n",
        "print_matrix(matrix_mul(A, B))"
      ],
      "metadata": {
        "id": "9wU6aBB-VVdP",
        "outputId": "883dd023-f4ca-4c9d-bb57-fb2418815324",
        "colab": {
          "base_uri": "https://localhost:8080/"
        }
      },
      "execution_count": null,
      "outputs": [
        {
          "output_type": "stream",
          "name": "stdout",
          "text": [
            "  19   22 \n",
            "\n",
            "  43   50 \n",
            "\n"
          ]
        }
      ]
    },
    {
      "cell_type": "markdown",
      "metadata": {
        "id": "D1xQy2WWB-kq"
      },
      "source": [
        "<h3> Q2: Replace the digits in the string with #</h3>\n",
        "\n",
        "consider a string that will have digits in that, we need to remove all the not digits and replace the digits with #\n",
        "<pre>\n",
        "Ex 1: A = 234                Output: ###\n",
        "Ex 2: A = a2b3c4             Output: ###\n",
        "Ex 3: A = abc                Output:   (empty string)\n",
        "Ex 5: A = #2a$#b%c%561#      Output: ####\n",
        "</pre>"
      ]
    },
    {
      "cell_type": "code",
      "execution_count": null,
      "metadata": {
        "id": "fxczi2jzB-kr"
      },
      "outputs": [],
      "source": [
        "import re\n",
        "def replace_digits(string):\n",
        "    m=re.sub(\"\\d\",\"#\",string)\n"
      ]
    },
    {
      "cell_type": "code",
      "source": [
        "import re\n",
        "examples = ['234',\n",
        "              'a2b3c4',\n",
        "              'abc',\n",
        "              '#2a$#b%c%561#']\n",
        "for example in examples:\n",
        "      new_s = '#' * len(re.sub(r'\\D', '', example))\n",
        "      print('Input = {} \\n Output = {}'.format(example, new_s))"
      ],
      "metadata": {
        "id": "_BhjumSxRGnl",
        "outputId": "65b6dcd2-123d-44d6-e850-339d9f05b0cc",
        "colab": {
          "base_uri": "https://localhost:8080/"
        }
      },
      "execution_count": null,
      "outputs": [
        {
          "output_type": "stream",
          "name": "stdout",
          "text": [
            "Input = 234 \n",
            " Output = ###\n",
            "Input = a2b3c4 \n",
            " Output = ###\n",
            "Input = abc \n",
            " Output = \n",
            "Input = #2a$#b%c%561# \n",
            " Output = ####\n"
          ]
        }
      ]
    },
    {
      "cell_type": "markdown",
      "metadata": {
        "id": "9OBpURbNB-k9"
      },
      "source": [
        "<h3> Q3: Filling the missing values in the specified formate</h3>\n",
        "You will be given a string with digits and '\\_'(missing value) symbols you have to replace the '\\_' symbols as explained \n",
        "<pre>\n",
        "Ex 1: _, _, _, 24 ==> 24/4, 24/4, 24/4, 24/4 i.e we. have distributed the 24 equally to all 4 places <br>\n",
        "Ex 2: 40, _, _, _, 60 ==> (60+40)/5,(60+40)/5,(60+40)/5,(60+40)/5,(60+40)/5 ==> 20, 20, 20, 20, 20 i.e. the sum of (60+40) is distributed qually to all 5 places<br>\n",
        "Ex 3: 80, _, _, _, _  ==> 80/5,80/5,80/5,80/5,80/5 ==> 16, 16, 16, 16, 16 i.e. the 80 is distributed qually to all 5 missing values that are right to it<br>\n",
        "Ex 4: _, _, 30, _, _, _, 50, _, _  \n",
        "==> we will fill the missing values from left to right \n",
        "    a. first we will distribute the 30 to left two missing values (10, 10, 10, _, _, _, 50, _, _)\n",
        "    b. now distribute the sum (10+50) missing values in between (10, 10, 12, 12, 12, 12, 12, _, _) \n",
        "    c. now we will distribute 12 to right side missing values (10, 10, 12, 12, 12, 12, 4, 4, 4)\n",
        "</pre>\n",
        "for a given string with comma seprate values, which will have both missing values numbers like ex: \"_, _, x, _, _, _\"\n",
        "you need fill the missing values\n",
        "\n",
        "Q: your program reads a string like ex: \"_, _, x, _, _, _\" and returns the filled sequence\n",
        "\n",
        "Ex: \n",
        "<pre>\n",
        "Input1: \"_,_,_,24\"\n",
        "Output1: 6,6,6,6\n",
        "\n",
        "Input2: \"40,_,_,_,60\"\n",
        "Output2: 20,20,20,20,20\n",
        "\n",
        "Input3: \"80,_,_,_,_\"\n",
        "Output3: 16,16,16,16,16\n",
        "\n",
        "Input4: \"_,_,30,_,_,_,50,_,_\"\n",
        "Output4: 10,10,12,12,12,12,4,4,4\n",
        "\n",
        "</pre>\n",
        "\n"
      ]
    },
    {
      "cell_type": "code",
      "execution_count": null,
      "metadata": {
        "id": "nZmpzHs_B-k-"
      },
      "outputs": [],
      "source": [
        "# write your python code here\n",
        "# you can take the above example as sample input for your program to test\n",
        "# it should work for any general input try not to hard code for only given input strings\n",
        "#run your code in the function for each of the inputs mentioned above and make sure that you get the same results\n",
        "\n",
        "# you can free to change all these codes/structure\n",
        "def curve_smoothing(string):\n",
        "    index_of_non_empty_cells_list = []\n",
        "\n",
        "    split_string = string.split(',')\n",
        "    \n",
        "    for i in range(len(split_string)):\n",
        "        if split_string[i] != '_':\n",
        "            index_of_non_empty_cells_list.append(i)\n",
        "            \n",
        "    index_of_non_empty_cells_list.append(len(split_string) - 1)\n",
        "    \n",
        "    start = 0\n",
        "    \n",
        "    for ele in index_of_non_empty_cells_list:\n",
        "        cumulative_sum_prev_and_next_value = int(split_string[ele]) if split_string[ele] != '_' else 0\n",
        "        cumulative_sum_prev_and_next_value += int(split_string[start]) if split_string[start] != '_' and start != ele else 0\n",
        "        integer_to_replace = cumulative_sum_prev_and_next_value // (ele - start + 1)\n",
        "        split_string = [integer_to_replace if start <= x <= ele else split_string[x] for x in range(len(split_string))]\n",
        "        start = ele\n",
        "    return split_string\n",
        "    return \n",
        "\n"
      ]
    },
    {
      "cell_type": "code",
      "source": [
        "S=  \"_,_,30,_,_,_,50,_,_\"\n",
        "smoothed_values= curve_smoothing(S)\n",
        "print(smoothed_values)"
      ],
      "metadata": {
        "id": "IIucOsAnkC3X",
        "outputId": "f1544822-e719-4bff-d53b-e3bbd741f3cb",
        "colab": {
          "base_uri": "https://localhost:8080/"
        }
      },
      "execution_count": null,
      "outputs": [
        {
          "output_type": "stream",
          "name": "stdout",
          "text": [
            "[10, 10, 12, 12, 12, 12, 4, 4, 4]\n"
          ]
        }
      ]
    },
    {
      "cell_type": "markdown",
      "metadata": {
        "id": "n4HS87QmB-lF"
      },
      "source": [
        "<h3> Q4: Given two sentances S1, S2</h3>\n",
        "You will be given two sentances S1, S2 your task is to find \n",
        "<pre>\n",
        "a. Number of common words between S1, S2\n",
        "b. Words in S1 but not in S2\n",
        "c. Words in S2 but not in S1\n",
        "</pre>\n",
        "\n",
        "Ex: \n",
        "<pre>\n",
        "S1= \"the first column F will contain only 5 uniques values\"\n",
        "S2= \"the second column S will contain only 3 uniques values\"\n",
        "Output:\n",
        "a. 7\n",
        "b. ['first','F','5']\n",
        "c. ['second','S','3']\n",
        "</pre>"
      ]
    },
    {
      "cell_type": "code",
      "execution_count": null,
      "metadata": {
        "id": "Ez7hlHK0B-lG"
      },
      "outputs": [],
      "source": [
        "# write your python code here\n",
        "# you can take the above example as sample input for your program to test\n",
        "# it should work for any general input try not to hard code for only given input strings\n",
        "\n",
        "# you can free to change all these codes/structure\n",
        "def string_features(S1, S2):\n",
        "    s1_unique_words_set = set(S1.split(\" \"))\n",
        "    s2_unique_words_set = set(S2.split(\" \"))\n",
        "\n",
        "    num_of_common_words = len(s1_unique_words_set.intersection(s2_unique_words_set)),\n",
        "    s1_words_not_in_s2 = s1_unique_words_set - s2_unique_words_set\n",
        "    s2_words_not_in_s1 = s2_unique_words_set - s1_unique_words_set\n",
        "\n",
        "    print('a. ', list(num_of_common_words)[0])\n",
        "    print('b. ', list(s1_words_not_in_s2))\n",
        "    print('b. ', list(s2_words_not_in_s1))"
      ]
    },
    {
      "cell_type": "code",
      "source": [
        "S1= \"the first column F will contain only 5 uniques values\"\n",
        "S2= \"the second column S will contain only 3 uniques values\"\n",
        "string_features(S1, S2)\n"
      ],
      "metadata": {
        "id": "0vEhNa6UkhCs",
        "outputId": "34cfd017-1ba1-4887-ff60-710644b5fa10",
        "colab": {
          "base_uri": "https://localhost:8080/"
        }
      },
      "execution_count": null,
      "outputs": [
        {
          "output_type": "stream",
          "name": "stdout",
          "text": [
            "a.  7\n",
            "b.  ['5', 'F', 'first']\n",
            "b.  ['3', 'second', 'S']\n"
          ]
        }
      ]
    }
  ],
  "metadata": {
    "colab": {
      "provenance": []
    },
    "kernelspec": {
      "display_name": "Python 3",
      "language": "python",
      "name": "python3"
    },
    "language_info": {
      "codemirror_mode": {
        "name": "ipython",
        "version": 3
      },
      "file_extension": ".py",
      "mimetype": "text/x-python",
      "name": "python",
      "nbconvert_exporter": "python",
      "pygments_lexer": "ipython3",
      "version": "3.6.3"
    }
  },
  "nbformat": 4,
  "nbformat_minor": 0
}